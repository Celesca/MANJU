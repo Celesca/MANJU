{
 "cells": [
  {
   "cell_type": "markdown",
   "id": "12ea6c60",
   "metadata": {},
   "source": [
    "# MultiAgent Thai Voice Chatbot Test\n",
    "\n",
    "Testing the MultiAgent system using Together AI API (same as CrewAI Demo)"
   ]
  },
  {
   "cell_type": "code",
   "execution_count": null,
   "id": "d3c401d6",
   "metadata": {},
   "outputs": [],
   "source": [
    "# Install required packages\n",
    "!pip install crewai litellm python-dotenv"
   ]
  },
  {
   "cell_type": "code",
   "execution_count": null,
   "id": "482fcd1d",
   "metadata": {},
   "outputs": [],
   "source": [
    "# Set your Together AI API key\n",
    "%env TOGETHER_API_KEY=your_together_ai_key_here"
   ]
  },
  {
   "cell_type": "code",
   "execution_count": null,
   "id": "4951534b",
   "metadata": {},
   "outputs": [],
   "source": [
    "import sys\n",
    "import os\n",
    "\n",
    "# Add the backend directory to the Python path\n",
    "sys.path.append('./backend')\n",
    "# Or if running from the backend directory:\n",
    "# sys.path.append('.')\n",
    "\n",
    "from MultiAgent import MultiAgent\n",
    "\n",
    "# Check if the API key is set\n",
    "api_key = os.getenv(\"TOGETHER_API_KEY\")\n",
    "if not api_key:\n",
    "    print(\"❌ TOGETHER_API_KEY is not set. Please set it using %env in the cell above.\")\n",
    "else:\n",
    "    print(\"✅ TOGETHER_API_KEY is set.\")\n",
    "    print(f\"Key prefix: {api_key[:8]}...\")"
   ]
  },
  {
   "cell_type": "code",
   "execution_count": null,
   "id": "59a8640b",
   "metadata": {},
   "outputs": [],
   "source": [
    "# Initialize MultiAgent (this should work now)\n",
    "try:\n",
    "    ma = MultiAgent()\n",
    "    print(\"✅ MultiAgent initialized successfully!\")\n",
    "    print(f\"Model: {ma.config.model}\")\n",
    "    print(f\"Base URL: {ma.config.base_url}\")\n",
    "except Exception as e:\n",
    "    print(f\"❌ Error initializing MultiAgent: {e}\")"
   ]
  },
  {
   "cell_type": "code",
   "execution_count": null,
   "id": "3f75330c",
   "metadata": {},
   "outputs": [],
   "source": [
    "# Test the system with a simple Thai message\n",
    "try:\n",
    "    result = ma.run(\"สวัสดีครับ ทดสอบระบบหน่อย\")\n",
    "    print(\"✅ Response received!\")\n",
    "    print(f\"\\nResponse: {result['response']}\")\n",
    "    print(f\"\\nModel used: {result['model']}\")\n",
    "    print(f\"Base URL: {result['used_base_url']}\")\n",
    "except Exception as e:\n",
    "    print(f\"❌ Error running MultiAgent: {e}\")"
   ]
  },
  {
   "cell_type": "code",
   "execution_count": null,
   "id": "da1c2039",
   "metadata": {},
   "outputs": [],
   "source": [
    "# Test with a more complex Thai call center scenario\n",
    "try:\n",
    "    result = ma.run(\"ขอสอบถามแพ็กเกจอินเทอร์เน็ตไฟเบอร์ที่เหมาะสำหรับบ้าน มีแพ็กเกจอะไรบ้างครับ\")\n",
    "    print(\"✅ Complex response received!\")\n",
    "    print(f\"\\nResponse: {result['response']}\")\n",
    "except Exception as e:\n",
    "    print(f\"❌ Error with complex query: {e}\")"
   ]
  },
  {
   "cell_type": "code",
   "execution_count": null,
   "id": "be67e088",
   "metadata": {},
   "outputs": [],
   "source": [
    "# Check system status\n",
    "status = ma.get_status()\n",
    "print(\"System Status:\")\n",
    "for key, value in status.items():\n",
    "    print(f\"  {key}: {value}\")"
   ]
  }
 ],
 "metadata": {
  "language_info": {
   "name": "python"
  }
 },
 "nbformat": 4,
 "nbformat_minor": 5
}
